{
 "cells": [
  {
   "cell_type": "code",
   "execution_count": 11,
   "id": "44612af1",
   "metadata": {},
   "outputs": [],
   "source": [
    "import datetime\n",
    "import glob\n",
    "def extract_scores(path, due_time):\n",
    "    i=0\n",
    "    for filename in glob.glob(path):\n",
    "        score=0; changes=0\n",
    "        with open(filename, 'r') as f:\n",
    "            partial_score=-1\n",
    "            attempts = 0\n",
    "            max_changes = 0\n",
    "            at_time = 0\n",
    "            prev_at_time = None\n",
    "            prev_score=0; \n",
    "            max_change_score=0\n",
    "            for line in f:\n",
    "                if line.find('UTC')!=-1:\n",
    "                    attempts += 1\n",
    "                    date_time = datetime.datetime.strptime(line, '%a %b %d %H:%M:%S UTC %Y: ')\n",
    "\n",
    "                    if prev_at_time != None: \n",
    "                        seconds = (date_time - prev_at_time).total_seconds()\n",
    "                        if seconds<1800: at_time += seconds\n",
    "\n",
    "                    prev_at_time = date_time \n",
    "                    if(due_time < date_time): break\n",
    "                if line.find('total_score')!=-1:\n",
    "                    prev_score=score\n",
    "                    score = int(line.split()[1].split('/')[0])\n",
    "                    if score>partial_score: partial_score=score\n",
    "                    if changes > max_changes and score-prev_score > 0: \n",
    "                        max_changes= changes\n",
    "                        max_change_score = score-prev_score;\n",
    "                if line.find('heap.c |')!=-1:\n",
    "                    changes = int(line.split()[2])\n",
    "\n",
    "\n",
    "            print(filename.split('\\\\')[1], \"\\t score:\", partial_score, \"\\tattempts:\", attempts, \"\\ttotal_time:\",round(at_time/60))"
   ]
  },
  {
   "cell_type": "code",
   "execution_count": 12,
   "id": "6d8d2654",
   "metadata": {},
   "outputs": [
    {
     "name": "stdout",
     "output_type": "stream",
     "text": [
      "Acdiel \t score: -1 \tattempts: 1 \ttotal_time: 0\n",
      "andradematias \t score: 70 \tattempts: 48 \ttotal_time: 109\n",
      "antoanais \t score: 45 \tattempts: 41 \ttotal_time: 82\n",
      "AquilesDiosT \t score: 15 \tattempts: 52 \ttotal_time: 81\n",
      "Arakito14 \t score: 70 \tattempts: 124 \ttotal_time: 360\n",
      "beatrizsegurap \t score: 0 \tattempts: 13 \ttotal_time: 8\n",
      "BreathCold0 \t score: 70 \tattempts: 78 \ttotal_time: 243\n",
      "bryan404 \t score: 35 \tattempts: 16 \ttotal_time: 52\n",
      "CarlosR759 \t score: 35 \tattempts: 59 \ttotal_time: 98\n",
      "CatalinaSchencke \t score: 35 \tattempts: 53 \ttotal_time: 72\n",
      "chk-P \t score: 15 \tattempts: 17 \ttotal_time: 25\n",
      "cognosipsi \t score: 70 \tattempts: 22 \ttotal_time: 117\n",
      "DarienPacheco \t score: -1 \tattempts: 1 \ttotal_time: 0\n",
      "Darkstrop \t score: 70 \tattempts: 67 \ttotal_time: 165\n",
      "DaylanStay \t score: -1 \tattempts: 1 \ttotal_time: 0\n",
      "Eddgaroto \t score: -1 \tattempts: 1 \ttotal_time: 0\n",
      "eyl-lana \t score: 10 \tattempts: 11 \ttotal_time: 35\n",
      "F3L1P30 \t score: 0 \tattempts: 96 \ttotal_time: 102\n",
      "flastrao \t score: 25 \tattempts: 13 \ttotal_time: 46\n",
      "Garyllako \t score: 70 \tattempts: 51 \ttotal_time: 129\n",
      "Idolatrine \t score: -1 \tattempts: 1 \ttotal_time: 0\n",
      "IgnacioCabreraS \t score: -1 \tattempts: 1 \ttotal_time: 0\n",
      "IPriceGett \t score: -1 \tattempts: 1 \ttotal_time: 0\n",
      "Ivan-galaz \t score: -1 \tattempts: 1 \ttotal_time: 0\n",
      "JavierFarina \t score: 25 \tattempts: 109 \ttotal_time: 178\n",
      "JeftePonce \t score: -1 \tattempts: 1 \ttotal_time: 0\n",
      "jnachoo \t score: 0 \tattempts: 7 \ttotal_time: 23\n",
      "JoseOlguin01 \t score: 0 \tattempts: 39 \ttotal_time: 89\n",
      "K4pocha \t score: -1 \tattempts: 1 \ttotal_time: 0\n",
      "kevin-meza-toro \t score: 70 \tattempts: 121 \ttotal_time: 226\n",
      "LaVolpeChalo \t score: -1 \tattempts: 1 \ttotal_time: 0\n",
      "Leftzara \t score: -1 \tattempts: 1 \ttotal_time: 0\n",
      "Lucas042002 \t score: 35 \tattempts: 53 \ttotal_time: 61\n",
      "Lyutsifer \t score: 70 \tattempts: 22 \ttotal_time: 52\n",
      "macatroncoso \t score: 70 \tattempts: 99 \ttotal_time: 225\n",
      "manticr \t score: 70 \tattempts: 144 \ttotal_time: 287\n",
      "MatiG2109 \t score: -1 \tattempts: 1 \ttotal_time: 0\n",
      "matilobster \t score: 55 \tattempts: 33 \ttotal_time: 132\n",
      "Moai-san \t score: 55 \tattempts: 45 \ttotal_time: 109\n",
      "Nachitzu \t score: 0 \tattempts: 5 \ttotal_time: 26\n",
      "NathaliaTrigo \t score: -1 \tattempts: 1 \ttotal_time: 0\n",
      "nicoacuna10 \t score: 70 \tattempts: 47 \ttotal_time: 111\n",
      "nicobrevis \t score: 70 \tattempts: 22 \ttotal_time: 38\n",
      "Niicool1 \t score: 25 \tattempts: 31 \ttotal_time: 94\n",
      "Nikob1 \t score: -1 \tattempts: 1 \ttotal_time: 0\n",
      "NivekNK \t score: 60 \tattempts: 90 \ttotal_time: 294\n",
      "Nottke \t score: 35 \tattempts: 27 \ttotal_time: 90\n",
      "OkitaDev \t score: 55 \tattempts: 36 \ttotal_time: 34\n",
      "panvian \t score: 70 \tattempts: 35 \ttotal_time: 105\n",
      "Pipasoo \t score: -1 \tattempts: 1 \ttotal_time: 0\n",
      "prindoxx \t score: -1 \tattempts: 1 \ttotal_time: 0\n",
      "Renoud3 \t score: 70 \tattempts: 29 \ttotal_time: 94\n",
      "ribrl \t score: -1 \tattempts: 1 \ttotal_time: 0\n",
      "rilianx \t score: 70 \tattempts: 3 \ttotal_time: 6\n",
      "Sashiiii \t score: -1 \tattempts: 1 \ttotal_time: 0\n",
      "SebaVac \t score: -1 \tattempts: 1 \ttotal_time: 0\n",
      "shyp0 \t score: 35 \tattempts: 83 \ttotal_time: 180\n",
      "Soulhae \t score: -1 \tattempts: 1 \ttotal_time: 0\n",
      "speedysw \t score: 15 \tattempts: 34 \ttotal_time: 132\n",
      "suazo-jara \t score: 70 \tattempts: 43 \ttotal_time: 166\n",
      "thetonijua \t score: 35 \tattempts: 26 \ttotal_time: 60\n",
      "TioPanxo \t score: -1 \tattempts: 1 \ttotal_time: 0\n",
      "UnaCuentaFalsaMas \t score: 55 \tattempts: 19 \ttotal_time: 35\n",
      "vicho-bece \t score: 35 \tattempts: 57 \ttotal_time: 138\n",
      "Vichosty \t score: 30 \tattempts: 76 \ttotal_time: 173\n",
      "XTrAnE \t score: -1 \tattempts: 1 \ttotal_time: 0\n"
     ]
    }
   ],
   "source": [
    "path = \"Sudoku_edlab-06-01-2021-01-43-01/*/log\"\n",
    "due_time = datetime.datetime.strptime('tue May 17 04:00:00 UTC 2021: ', '%a %b %d %H:%M:%S UTC %Y: ')\n",
    "extract_scores(path,due_time)\n"
   ]
  },
  {
   "cell_type": "code",
   "execution_count": 13,
   "id": "d1c14433",
   "metadata": {},
   "outputs": [
    {
     "ename": "ValueError",
     "evalue": "time data 'Sun 23 05:00:00 UTC 2021: ' does not match format '%a %b %d %H:%M:%S UTC %Y: '",
     "output_type": "error",
     "traceback": [
      "\u001b[1;31m---------------------------------------------------------------------------\u001b[0m",
      "\u001b[1;31mValueError\u001b[0m                                Traceback (most recent call last)",
      "\u001b[1;32m<ipython-input-13-20bb189328d8>\u001b[0m in \u001b[0;36m<module>\u001b[1;34m\u001b[0m\n\u001b[0;32m      1\u001b[0m \u001b[0mpath\u001b[0m \u001b[1;33m=\u001b[0m \u001b[1;34m\"Sudoku_edlab-06-01-2021-01-43-01/*/log\"\u001b[0m\u001b[1;33m\u001b[0m\u001b[1;33m\u001b[0m\u001b[0m\n\u001b[0;32m      2\u001b[0m \u001b[1;31m#Revisión jueves por la mañana...\u001b[0m\u001b[1;33m\u001b[0m\u001b[1;33m\u001b[0m\u001b[1;33m\u001b[0m\u001b[0m\n\u001b[1;32m----> 3\u001b[1;33m \u001b[0mdue_time\u001b[0m \u001b[1;33m=\u001b[0m \u001b[0mdatetime\u001b[0m\u001b[1;33m.\u001b[0m\u001b[0mdatetime\u001b[0m\u001b[1;33m.\u001b[0m\u001b[0mstrptime\u001b[0m\u001b[1;33m(\u001b[0m\u001b[1;34m'Sun 23 05:00:00 UTC 2021: '\u001b[0m\u001b[1;33m,\u001b[0m \u001b[1;34m'%a %b %d %H:%M:%S UTC %Y: '\u001b[0m\u001b[1;33m)\u001b[0m\u001b[1;33m\u001b[0m\u001b[1;33m\u001b[0m\u001b[0m\n\u001b[0m\u001b[0;32m      4\u001b[0m \u001b[0mextract_scores\u001b[0m\u001b[1;33m(\u001b[0m\u001b[0mpath\u001b[0m\u001b[1;33m,\u001b[0m\u001b[0mdue_time\u001b[0m\u001b[1;33m)\u001b[0m\u001b[1;33m\u001b[0m\u001b[1;33m\u001b[0m\u001b[0m\n",
      "\u001b[1;32mc:\\users\\gabyc\\appdata\\local\\programs\\python\\python39\\lib\\_strptime.py\u001b[0m in \u001b[0;36m_strptime_datetime\u001b[1;34m(cls, data_string, format)\u001b[0m\n\u001b[0;32m    566\u001b[0m     \"\"\"Return a class cls instance based on the input string and the\n\u001b[0;32m    567\u001b[0m     format string.\"\"\"\n\u001b[1;32m--> 568\u001b[1;33m     \u001b[0mtt\u001b[0m\u001b[1;33m,\u001b[0m \u001b[0mfraction\u001b[0m\u001b[1;33m,\u001b[0m \u001b[0mgmtoff_fraction\u001b[0m \u001b[1;33m=\u001b[0m \u001b[0m_strptime\u001b[0m\u001b[1;33m(\u001b[0m\u001b[0mdata_string\u001b[0m\u001b[1;33m,\u001b[0m \u001b[0mformat\u001b[0m\u001b[1;33m)\u001b[0m\u001b[1;33m\u001b[0m\u001b[1;33m\u001b[0m\u001b[0m\n\u001b[0m\u001b[0;32m    569\u001b[0m     \u001b[0mtzname\u001b[0m\u001b[1;33m,\u001b[0m \u001b[0mgmtoff\u001b[0m \u001b[1;33m=\u001b[0m \u001b[0mtt\u001b[0m\u001b[1;33m[\u001b[0m\u001b[1;33m-\u001b[0m\u001b[1;36m2\u001b[0m\u001b[1;33m:\u001b[0m\u001b[1;33m]\u001b[0m\u001b[1;33m\u001b[0m\u001b[1;33m\u001b[0m\u001b[0m\n\u001b[0;32m    570\u001b[0m     \u001b[0margs\u001b[0m \u001b[1;33m=\u001b[0m \u001b[0mtt\u001b[0m\u001b[1;33m[\u001b[0m\u001b[1;33m:\u001b[0m\u001b[1;36m6\u001b[0m\u001b[1;33m]\u001b[0m \u001b[1;33m+\u001b[0m \u001b[1;33m(\u001b[0m\u001b[0mfraction\u001b[0m\u001b[1;33m,\u001b[0m\u001b[1;33m)\u001b[0m\u001b[1;33m\u001b[0m\u001b[1;33m\u001b[0m\u001b[0m\n",
      "\u001b[1;32mc:\\users\\gabyc\\appdata\\local\\programs\\python\\python39\\lib\\_strptime.py\u001b[0m in \u001b[0;36m_strptime\u001b[1;34m(data_string, format)\u001b[0m\n\u001b[0;32m    347\u001b[0m     \u001b[0mfound\u001b[0m \u001b[1;33m=\u001b[0m \u001b[0mformat_regex\u001b[0m\u001b[1;33m.\u001b[0m\u001b[0mmatch\u001b[0m\u001b[1;33m(\u001b[0m\u001b[0mdata_string\u001b[0m\u001b[1;33m)\u001b[0m\u001b[1;33m\u001b[0m\u001b[1;33m\u001b[0m\u001b[0m\n\u001b[0;32m    348\u001b[0m     \u001b[1;32mif\u001b[0m \u001b[1;32mnot\u001b[0m \u001b[0mfound\u001b[0m\u001b[1;33m:\u001b[0m\u001b[1;33m\u001b[0m\u001b[1;33m\u001b[0m\u001b[0m\n\u001b[1;32m--> 349\u001b[1;33m         raise ValueError(\"time data %r does not match format %r\" %\n\u001b[0m\u001b[0;32m    350\u001b[0m                          (data_string, format))\n\u001b[0;32m    351\u001b[0m     \u001b[1;32mif\u001b[0m \u001b[0mlen\u001b[0m\u001b[1;33m(\u001b[0m\u001b[0mdata_string\u001b[0m\u001b[1;33m)\u001b[0m \u001b[1;33m!=\u001b[0m \u001b[0mfound\u001b[0m\u001b[1;33m.\u001b[0m\u001b[0mend\u001b[0m\u001b[1;33m(\u001b[0m\u001b[1;33m)\u001b[0m\u001b[1;33m:\u001b[0m\u001b[1;33m\u001b[0m\u001b[1;33m\u001b[0m\u001b[0m\n",
      "\u001b[1;31mValueError\u001b[0m: time data 'Sun 23 05:00:00 UTC 2021: ' does not match format '%a %b %d %H:%M:%S UTC %Y: '"
     ]
    }
   ],
   "source": [
    "path = \"Sudoku_edlab-06-01-2021-01-43-01/*/log\"\n",
    "#Revisión jueves por la mañana...\n",
    "due_time = datetime.datetime.strptime('Sun May 23 05:00:00 UTC 2021: ', '%a %b %d %H:%M:%S UTC %Y: ')\n",
    "extract_scores(path,due_time)"
   ]
  },
  {
   "cell_type": "code",
   "execution_count": null,
   "id": "4a6b33a0",
   "metadata": {},
   "outputs": [],
   "source": []
  },
  {
   "cell_type": "code",
   "execution_count": null,
   "id": "0cde9dbd",
   "metadata": {},
   "outputs": [],
   "source": []
  }
 ],
 "metadata": {
  "kernelspec": {
   "display_name": "Python 3",
   "language": "python",
   "name": "python3"
  },
  "language_info": {
   "codemirror_mode": {
    "name": "ipython",
    "version": 3
   },
   "file_extension": ".py",
   "mimetype": "text/x-python",
   "name": "python",
   "nbconvert_exporter": "python",
   "pygments_lexer": "ipython3",
   "version": "3.9.4"
  }
 },
 "nbformat": 4,
 "nbformat_minor": 5
}
